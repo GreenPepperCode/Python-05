{
 "cells": [
  {
   "cell_type": "code",
   "execution_count": 1,
   "metadata": {},
   "outputs": [
    {
     "name": "stdout",
     "output_type": "stream",
     "text": [
      "Le fichier a été renommé de data.json à default_dataset.json\n"
     ]
    }
   ],
   "source": [
    "import os\n",
    "\n",
    "# Chemin du dossier contenant le fichier\n",
    "dossier = \"Projet Hunter\"\n",
    "\n",
    "# Ancien et nouveau noms de fichier\n",
    "ancien_nom = \"data.json\"\n",
    "nouveau_nom = \"default_dataset.json\"\n",
    "\n",
    "# Chemins complets des fichiers\n",
    "chemin_ancien = os.path.join(dossier, ancien_nom)\n",
    "chemin_nouveau = os.path.join(dossier, nouveau_nom)\n",
    "\n",
    "# Renommer le fichier\n",
    "try:\n",
    "    os.rename(chemin_ancien, chemin_nouveau)\n",
    "    print(f\"Le fichier a été renommé de {ancien_nom} à {nouveau_nom}\")\n",
    "except OSError as e:\n",
    "    print(f\"Erreur lors du renommage du fichier: {e}\")\n"
   ]
  }
 ],
 "metadata": {
  "kernelspec": {
   "display_name": "Python 3",
   "language": "python",
   "name": "python3"
  },
  "language_info": {
   "codemirror_mode": {
    "name": "ipython",
    "version": 3
   },
   "file_extension": ".py",
   "mimetype": "text/x-python",
   "name": "python",
   "nbconvert_exporter": "python",
   "pygments_lexer": "ipython3",
   "version": "3.12.0"
  }
 },
 "nbformat": 4,
 "nbformat_minor": 2
}
