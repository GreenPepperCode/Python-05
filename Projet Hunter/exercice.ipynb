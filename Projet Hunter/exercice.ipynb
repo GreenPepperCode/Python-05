{
 "cells": [
  {
   "cell_type": "markdown",
   "metadata": {},
   "source": [
    "Utilisation de l'api whiskyhunter et manipulation de fichiers"
   ]
  },
  {
   "cell_type": "code",
   "execution_count": null,
   "metadata": {},
   "outputs": [],
   "source": [
    "%pip install requests pandas matplotlib"
   ]
  },
  {
   "cell_type": "markdown",
   "metadata": {},
   "source": [
    "Cellule du module \"logic.py\""
   ]
  },
  {
   "cell_type": "code",
   "execution_count": null,
   "metadata": {},
   "outputs": [],
   "source": [
    "# logic.py\n",
    "\n",
    "import requests\n",
    "import pandas as pd\n",
    "\n",
    "def fetch_base_data(endpoint):\n",
    "    response = requests.get(endpoint)\n",
    "    if response.status_code == 200:\n",
    "        return pd.DataFrame(response.json())\n",
    "    else:\n",
    "        raise Exception(f\"Erreur lors de la requête de base : {response.status_code}\")\n",
    "\n",
    "def fetch_detailed_data(slugs):\n",
    "    df_detailed = pd.DataFrame()\n",
    "    for slug in slugs:\n",
    "        response = requests.get(f'https://whiskyhunter.net/api/distillery_data/{slug}/')\n",
    "        if response.status_code == 200:\n",
    "            df_temp = pd.DataFrame(response.json())\n",
    "            df_temp['slug'] = slug\n",
    "            df_detailed = pd.concat([df_detailed, df_temp], ignore_index=True)\n",
    "        else:\n",
    "            print(f\"Erreur pour le slug {slug}\")\n",
    "    return df_detailed.set_index(['slug', 'dt'])\n",
    "\n",
    "def filter_base_data(df_base, df_detailed):\n",
    "    slugs_in_detailed = df_detailed.index.get_level_values('slug').unique()\n",
    "    return df_base[df_base['slug'].isin(slugs_in_detailed)]\n"
   ]
  },
  {
   "cell_type": "markdown",
   "metadata": {},
   "source": [
    "Cellule du module \"main.py\""
   ]
  },
  {
   "cell_type": "code",
   "execution_count": null,
   "metadata": {},
   "outputs": [],
   "source": [
    "# main.py\n",
    "\n",
    "import logic\n",
    "import matplotlib.pyplot as plt\n",
    "# importez d'autres bibliothèques si nécessaire\n",
    "\n",
    "# Endpoint pour les données de base\n",
    "endpoint_base = 'https://whiskyhunter.net/api/distilleries_info/'\n",
    "\n",
    "# Récupérer les données de base\n",
    "df_base = logic.fetch_base_data(endpoint_base)\n",
    "\n",
    "# Récupérer les données détaillées\n",
    "df_detailed = logic.fetch_detailed_data(df_base['slug'])\n",
    "\n",
    "# Filtrer le DataFrame de base\n",
    "df_base_filtered = logic.filter_base_data(df_base, df_detailed)\n",
    "\n",
    "# Enregistrer le DataFrame détaillé au format JSON\n",
    "df_detailed.to_json(\"data.json\", orient='split', index=True)\n",
    "\n",
    "# Analyses statistiques et visualisations\n",
    "# Exemple : Calculer la moyenne des enchères moyennes gagnantes\n",
    "mean_winning_bid = df_detailed['winning_bid_mean'].mean()\n",
    "print(\"Moyenne des enchères moyennes gagnantes :\", mean_winning_bid)\n",
    "\n",
    "# Exemple de visualisation : Histogramme des enchères moyennes gagnantes\n",
    "plt.figure(figsize=(10, 6))\n",
    "plt.hist(df_detailed['winning_bid_mean'].dropna(), bins=20, edgecolor='black')\n",
    "plt.title('Distribution des Enchères Moyennes Gagnantes')\n",
    "plt.xlabel('Enchère Moyenne Gagnante')\n",
    "plt.ylabel('Fréquence')\n",
    "plt.show()\n",
    "\n",
    "# Vous pouvez ajouter d'autres analyses et visualisations selon vos besoins\n"
   ]
  }
 ],
 "metadata": {
  "kernelspec": {
   "display_name": "Python 3",
   "language": "python",
   "name": "python3"
  },
  "language_info": {
   "codemirror_mode": {
    "name": "ipython",
    "version": 3
   },
   "file_extension": ".py",
   "mimetype": "text/x-python",
   "name": "python",
   "nbconvert_exporter": "python",
   "pygments_lexer": "ipython3",
   "version": "3.12.0"
  }
 },
 "nbformat": 4,
 "nbformat_minor": 2
}
