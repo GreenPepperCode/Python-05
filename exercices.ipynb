{
 "cells": [
  {
   "cell_type": "code",
   "execution_count": 5,
   "metadata": {},
   "outputs": [
    {
     "name": "stdout",
     "output_type": "stream",
     "text": [
      "Requirement already satisfied: requests in c:\\users\\yzi\\appdata\\local\\programs\\python\\python312\\lib\\site-packages (2.31.0)\n",
      "Requirement already satisfied: pandas in c:\\users\\yzi\\appdata\\local\\programs\\python\\python312\\lib\\site-packages (2.1.3)\n",
      "Requirement already satisfied: matplotlib in c:\\users\\yzi\\appdata\\local\\programs\\python\\python312\\lib\\site-packages (3.8.2)\n",
      "Requirement already satisfied: charset-normalizer<4,>=2 in c:\\users\\yzi\\appdata\\local\\programs\\python\\python312\\lib\\site-packages (from requests) (3.3.2)\n",
      "Requirement already satisfied: idna<4,>=2.5 in c:\\users\\yzi\\appdata\\local\\programs\\python\\python312\\lib\\site-packages (from requests) (3.6)\n",
      "Requirement already satisfied: urllib3<3,>=1.21.1 in c:\\users\\yzi\\appdata\\local\\programs\\python\\python312\\lib\\site-packages (from requests) (2.1.0)\n",
      "Requirement already satisfied: certifi>=2017.4.17 in c:\\users\\yzi\\appdata\\local\\programs\\python\\python312\\lib\\site-packages (from requests) (2023.11.17)\n",
      "Requirement already satisfied: numpy<2,>=1.26.0 in c:\\users\\yzi\\appdata\\local\\programs\\python\\python312\\lib\\site-packages (from pandas) (1.26.2)\n",
      "Requirement already satisfied: python-dateutil>=2.8.2 in c:\\users\\yzi\\appdata\\roaming\\python\\python312\\site-packages (from pandas) (2.8.2)\n",
      "Requirement already satisfied: pytz>=2020.1 in c:\\users\\yzi\\appdata\\local\\programs\\python\\python312\\lib\\site-packages (from pandas) (2023.3.post1)\n",
      "Requirement already satisfied: tzdata>=2022.1 in c:\\users\\yzi\\appdata\\local\\programs\\python\\python312\\lib\\site-packages (from pandas) (2023.3)\n",
      "Requirement already satisfied: contourpy>=1.0.1 in c:\\users\\yzi\\appdata\\local\\programs\\python\\python312\\lib\\site-packages (from matplotlib) (1.2.0)\n",
      "Requirement already satisfied: cycler>=0.10 in c:\\users\\yzi\\appdata\\local\\programs\\python\\python312\\lib\\site-packages (from matplotlib) (0.12.1)\n",
      "Requirement already satisfied: fonttools>=4.22.0 in c:\\users\\yzi\\appdata\\local\\programs\\python\\python312\\lib\\site-packages (from matplotlib) (4.45.1)\n",
      "Requirement already satisfied: kiwisolver>=1.3.1 in c:\\users\\yzi\\appdata\\local\\programs\\python\\python312\\lib\\site-packages (from matplotlib) (1.4.5)\n",
      "Requirement already satisfied: packaging>=20.0 in c:\\users\\yzi\\appdata\\roaming\\python\\python312\\site-packages (from matplotlib) (23.2)\n",
      "Requirement already satisfied: pillow>=8 in c:\\users\\yzi\\appdata\\local\\programs\\python\\python312\\lib\\site-packages (from matplotlib) (10.1.0)\n",
      "Requirement already satisfied: pyparsing>=2.3.1 in c:\\users\\yzi\\appdata\\local\\programs\\python\\python312\\lib\\site-packages (from matplotlib) (3.1.1)\n",
      "Requirement already satisfied: six>=1.5 in c:\\users\\yzi\\appdata\\roaming\\python\\python312\\site-packages (from python-dateutil>=2.8.2->pandas) (1.16.0)\n",
      "Note: you may need to restart the kernel to use updated packages.\n"
     ]
    },
    {
     "name": "stderr",
     "output_type": "stream",
     "text": [
      "\n",
      "[notice] A new release of pip is available: 23.2.1 -> 23.3.1\n",
      "[notice] To update, run: python.exe -m pip install --upgrade pip\n"
     ]
    }
   ],
   "source": [
    "%pip install requests pandas matplotlib"
   ]
  },
  {
   "cell_type": "markdown",
   "metadata": {},
   "source": [
    "Manipulation sur le fichier \"data.json\" du projet précédent"
   ]
  },
  {
   "cell_type": "code",
   "execution_count": 1,
   "metadata": {},
   "outputs": [
    {
     "name": "stdout",
     "output_type": "stream",
     "text": [
      "Le fichier a été renommé de data.json à default_dataset.json\n"
     ]
    }
   ],
   "source": [
    "import os\n",
    "\n",
    "# Chemin du dossier contenant le fichier\n",
    "dossier = \"Projet Hunter\"\n",
    "\n",
    "# Ancien et nouveau noms de fichier\n",
    "ancien_nom = \"data.json\"\n",
    "nouveau_nom = \"default_dataset.json\"\n",
    "\n",
    "# Chemins complets des fichiers\n",
    "chemin_ancien = os.path.join(dossier, ancien_nom)\n",
    "chemin_nouveau = os.path.join(dossier, nouveau_nom)\n",
    "\n",
    "# Renommer le fichier\n",
    "try:\n",
    "    os.rename(chemin_ancien, chemin_nouveau)\n",
    "    print(f\"Le fichier a été renommé de {ancien_nom} à {nouveau_nom}\")\n",
    "except OSError as e:\n",
    "    print(f\"Erreur lors du renommage du fichier: {e}\")\n"
   ]
  },
  {
   "cell_type": "markdown",
   "metadata": {},
   "source": []
  },
  {
   "cell_type": "code",
   "execution_count": 9,
   "metadata": {},
   "outputs": [
    {
     "name": "stdout",
     "output_type": "stream",
     "text": [
      "Type des données : <class 'dict'>\n",
      "Clé : columns, Extrait des données : ['winning_bid_max', 'winning_bid_min', 'winning_bid_mean', 'trading_volume', 'lots_count', 'name']\n",
      "Clé : index, Extrait des données : [['8_doors', '2023-09-01'], ['8_doors', '2023-08-01'], ['8_doors', '2023-07-01'], ['8_doors', '2023-06-01'], ['8_doors', '2022-10-01'], ['8_doors', '2022-08-01'], ['8_doors', '2022-04-01'], ['8_doors', '2022-03-01'], ['8_doors', '2022-01-01'], ['8_doors', '2018-01-01']]\n",
      "Clé : data, Extrait des données : [[35.0, 35.0, 35.0, 35.0, 1, '8 Doors Distillery'], [45.0, 25.0, 39.5, 197.5, 3, '8 Doors Distillery'], [27.5, 27.5, 27.5, 27.5, 1, '8 Doors Distillery'], [20.0, 12.5, 16.5, 49.5, 1, '8 Doors Distillery'], [80.0, 65.0, 72.5, 145.0, 2, '8 Doors Distillery'], [94.6, 94.6, 94.6, 94.6, 1, '8 Doors Distillery'], [47.0, 47.0, 47.0, 47.0, 1, '8 Doors Distillery'], [47.0, 47.0, 47.0, 47.0, 1, '8 Doors Distillery'], [31.0, 31.0, 31.0, 31.0, 1, '8 Doors Distillery'], [17.52, 17.52, 17.52, 17.52, 1, '8 Doors Distillery']]\n"
     ]
    }
   ],
   "source": [
    "import json\n",
    "\n",
    "# Chemin vers le fichier JSON\n",
    "json_file_path = 'Projet Hunter/default_dataset.json'\n",
    "\n",
    "# Lire le fichier JSON\n",
    "with open(json_file_path, 'r') as file:\n",
    "    json_data = json.load(file)\n",
    "\n",
    "# Afficher le type des données chargées\n",
    "print(f\"Type des données : {type(json_data)}\")\n",
    "\n",
    "# Afficher une partie des données pour comprendre leur structure\n",
    "# Utiliser une condition pour vérifier si les données sont de type dictionnaire ou liste\n",
    "if isinstance(json_data, dict):\n",
    "    # Afficher les clés du dictionnaire et un extrait de chaque valeur\n",
    "    for key in json_data:\n",
    "        print(f\"Clé : {key}, Extrait des données : {json_data[key][:10]}\")\n",
    "elif isinstance(json_data, list):\n",
    "    # Si c'est une liste, afficher les 10 premiers éléments\n",
    "    print(json_data[:10])\n"
   ]
  },
  {
   "cell_type": "code",
   "execution_count": 10,
   "metadata": {},
   "outputs": [
    {
     "name": "stdout",
     "output_type": "stream",
     "text": [
      "                    winning_bid_max  winning_bid_min  winning_bid_mean  \\\n",
      "Slug    Date                                                             \n",
      "8_doors 2023-09-01             35.0             35.0              35.0   \n",
      "        2023-08-01             45.0             25.0              39.5   \n",
      "        2023-07-01             27.5             27.5              27.5   \n",
      "        2023-06-01             20.0             12.5              16.5   \n",
      "        2022-10-01             80.0             65.0              72.5   \n",
      "\n",
      "                    trading_volume  lots_count                name  \n",
      "Slug    Date                                                        \n",
      "8_doors 2023-09-01            35.0           1  8 Doors Distillery  \n",
      "        2023-08-01           197.5           3  8 Doors Distillery  \n",
      "        2023-07-01            27.5           1  8 Doors Distillery  \n",
      "        2023-06-01            49.5           1  8 Doors Distillery  \n",
      "        2022-10-01           145.0           2  8 Doors Distillery  \n"
     ]
    }
   ],
   "source": [
    "import pandas as pd\n",
    "\n",
    "# Extraction des composants du JSON\n",
    "columns = json_data['columns']\n",
    "data = json_data['data']\n",
    "index = json_data['index']\n",
    "\n",
    "# Création du DataFrame\n",
    "df = pd.DataFrame(data, columns=columns)\n",
    "\n",
    "# Optionnel : Définir un index multi-niveaux si nécessaire\n",
    "df.set_index([pd.Index([i[0] for i in index], name='Slug'), \n",
    "              pd.Index([i[1] for i in index], name='Date')], inplace=True)\n",
    "\n",
    "# Afficher le DataFrame pour vérifier la structure\n",
    "print(df.head())\n"
   ]
  },
  {
   "cell_type": "code",
   "execution_count": 11,
   "metadata": {},
   "outputs": [
    {
     "name": "stdout",
     "output_type": "stream",
     "text": [
      "       winning_bid_max  winning_bid_min  winning_bid_mean  trading_volume  \\\n",
      "count     3.781800e+04     37818.000000      37818.000000    3.781800e+04   \n",
      "mean      2.066264e+03        46.075400        188.205933    2.028552e+04   \n",
      "std       1.836260e+04       197.765731        390.048804    1.455409e+05   \n",
      "min       0.000000e+00         0.000000          0.000000    0.000000e+00   \n",
      "25%       1.350000e+02         5.000000         69.122500    3.440000e+02   \n",
      "50%       3.240000e+02        14.700000        114.465000    1.657750e+03   \n",
      "75%       8.361500e+02        40.000000        194.467500    7.190500e+03   \n",
      "max       1.200000e+06     17000.000000      17000.000000    6.954005e+06   \n",
      "\n",
      "         lots_count  \n",
      "count  37818.000000  \n",
      "mean      57.871648  \n",
      "std      186.594626  \n",
      "min        1.000000  \n",
      "25%        4.000000  \n",
      "50%       13.000000  \n",
      "75%       44.000000  \n",
      "max     6873.000000  \n",
      "Moyenne de winning_bid_max: 2066.2637244169446\n",
      "Médiane de winning_bid_max: 324.0\n",
      "Écart-type de winning_bid_max: 18362.596632967186\n",
      "name\n",
      "8 Doors Distillery         44.462000\n",
      "Abbeyhill Distillery      237.728571\n",
      "Aberfeldy                 562.130806\n",
      "Aberlour                  493.663889\n",
      "Abhainn Dearg             104.081250\n",
      "                            ...     \n",
      "Wester                    191.389474\n",
      "Wolfburn                  459.346237\n",
      "Yamazaki                25215.850262\n",
      "Yoichi                   1697.312571\n",
      "Yuza Distillery           179.606250\n",
      "Name: winning_bid_max, Length: 268, dtype: float64\n"
     ]
    },
    {
     "data": {
      "image/png": "[encoded data removed]",
      "text/plain": [
       "<Figure size 640x480 with 1 Axes>"
      ]
     },
     "metadata": {},
     "output_type": "display_data"
    }
   ],
   "source": [
    "# Statistiques descriptives\n",
    "print(df.describe())\n",
    "\n",
    "# Moyenne, Médiane, Écart-type pour 'winning_bid_max'\n",
    "print(\"Moyenne de winning_bid_max:\", df['winning_bid_max'].mean())\n",
    "print(\"Médiane de winning_bid_max:\", df['winning_bid_max'].median())\n",
    "print(\"Écart-type de winning_bid_max:\", df['winning_bid_max'].std())\n",
    "\n",
    "# Groupement par 'name' et calcul de la moyenne pour 'winning_bid_max'\n",
    "grouped = df.groupby('name')['winning_bid_max'].mean()\n",
    "print(grouped)\n",
    "\n",
    "# Pour la visualisation, vous pouvez utiliser Matplotlib ou Seaborn\n",
    "# Par exemple, créer un histogramme des 'winning_bid_max'\n",
    "import matplotlib.pyplot as plt\n",
    "\n",
    "df['winning_bid_max'].hist()\n",
    "plt.title('Histogramme de Winning Bid Max')\n",
    "plt.xlabel('Winning Bid Max')\n",
    "plt.ylabel('Fréquence')\n",
    "plt.show()\n"
   ]
  }
 ],
 "metadata": {
  "kernelspec": {
   "display_name": "Python 3",
   "language": "python",
   "name": "python3"
  },
  "language_info": {
   "codemirror_mode": {
    "name": "ipython",
    "version": 3
   },
   "file_extension": ".py",
   "mimetype": "text/x-python",
   "name": "python",
   "nbconvert_exporter": "python",
   "pygments_lexer": "ipython3",
   "version": "3.12.0"
  }
 },
 "nbformat": 4,
 "nbformat_minor": 2
}
